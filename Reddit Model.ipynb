{
 "cells": [
  {
   "cell_type": "markdown",
   "metadata": {},
   "source": [
    "# Reddit Post Classification Model"
   ]
  },
  {
   "cell_type": "markdown",
   "metadata": {},
   "source": [
    "## **Purpose of NLP Task and Model**"
   ]
  },
  {
   "cell_type": "markdown",
   "metadata": {},
   "source": [
    "On reddit, there is a subreddit called wallstreetbets where members talk about the status of the stock market and economy and what they are going to invest in. Many people come to the subreddit to learn about the stock market and economy. On the other hand, the subreddit is also filled with memes and other miscellaneous information. We wanted to find out if it is possible to build a recomendation system that can separate informative posts from uninformative posts. As a result we built a model that is able to classify a reddit post as informative or uninformative. "
   ]
  },
  {
   "cell_type": "markdown",
   "metadata": {},
   "source": [
    "## **Creating The Models**"
   ]
  },
  {
   "cell_type": "markdown",
   "metadata": {
    "id": "At4bEl5ce5zz"
   },
   "source": [
    "L2-regularized logistic regression for binary or multiclass classification; trains a model (on `train.txt`), optimizes L2 regularization strength on `dev.txt`, and evaluates performance on `test.txt`.  Reports test accuracy with 95% confidence intervals and prints out the strongest coefficients for each class."
   ]
  },
  {
   "cell_type": "code",
   "execution_count": 60,
   "metadata": {
    "id": "TQTT9x-6d2JI"
   },
   "outputs": [],
   "source": [
    "from scipy import sparse\n",
    "from sklearn import linear_model\n",
    "from collections import Counter\n",
    "import numpy as np\n",
    "import operator\n",
    "import nltk\n",
    "import math\n",
    "from scipy.stats import norm\n",
    "from matplotlib import pyplot as plt"
   ]
  },
  {
   "cell_type": "code",
   "execution_count": 61,
   "metadata": {
    "colab": {
     "base_uri": "https://localhost:8080/",
     "height": 0
    },
    "id": "e4KuVSCSqlUX",
    "outputId": "bd287f6d-bad4-429d-f5bb-0de003942e2b",
    "scrolled": true
   },
   "outputs": [
    {
     "name": "stdout",
     "output_type": "stream",
     "text": [
      "/usr/lib/python3.7/runpy.py:125: RuntimeWarning: 'nltk.downloader' found in sys.modules after import of package 'nltk', but prior to execution of 'nltk.downloader'; this may result in unpredictable behaviour\n",
      "  warn(RuntimeWarning(msg))\n",
      "[nltk_data] Downloading package punkt to /root/nltk_data...\n",
      "[nltk_data]   Package punkt is already up-to-date!\n"
     ]
    }
   ],
   "source": [
    "!python -m nltk.downloader punkt"
   ]
  },
  {
   "cell_type": "code",
   "execution_count": 62,
   "metadata": {
    "id": "61xFnQFje5z2"
   },
   "outputs": [],
   "source": [
    "def load_data(filename):\n",
    "    X = []\n",
    "    Y = []\n",
    "    with open(filename, encoding=\"utf-8\") as file:\n",
    "        for line in file:\n",
    "            cols = line.split(\"\\t\")\n",
    "            idd = cols[0]\n",
    "            label = cols[1].lstrip().rstrip()\n",
    "            text = cols[2]\n",
    "\n",
    "            X.append(text)\n",
    "            Y.append(label)\n",
    "\n",
    "    return X, Y\n"
   ]
  },
  {
   "cell_type": "code",
   "execution_count": 63,
   "metadata": {
    "id": "CGiM8qQiJOBU"
   },
   "outputs": [],
   "source": [
    "class Classifier:\n",
    "\n",
    "    def __init__(self, feature_method, trainX, trainY, devX, devY, testX, testY):\n",
    "        self.feature_vocab = {}\n",
    "        self.feature_method = feature_method\n",
    "        self.min_feature_count=2\n",
    "        self.log_reg = None\n",
    "\n",
    "        self.trainY=trainY\n",
    "        self.devY=devY\n",
    "        self.testY=testY\n",
    "        \n",
    "        self.trainX = self.process(trainX, training=True)\n",
    "        self.devX = self.process(devX, training=False)\n",
    "        self.testX = self.process(testX, training=False)\n",
    "\n",
    "    # Featurize entire dataset\n",
    "    def featurize(self, data):\n",
    "        featurized_data = []\n",
    "        for text in data:\n",
    "            feats = self.feature_method(text)\n",
    "            featurized_data.append(feats)\n",
    "        return featurized_data\n",
    "\n",
    "    # Read dataset and returned featurized representation as sparse matrix + label array\n",
    "    def process(self, X_data, training = False):\n",
    "        \n",
    "        data = self.featurize(X_data)\n",
    "\n",
    "        if training:\n",
    "            fid = 0\n",
    "            feature_doc_count = Counter()\n",
    "            for feats in data:\n",
    "                for feat in feats:\n",
    "                    feature_doc_count[feat]+= 1\n",
    "\n",
    "            for feat in feature_doc_count:\n",
    "                if feature_doc_count[feat] >= self.min_feature_count:\n",
    "                    self.feature_vocab[feat] = fid\n",
    "                    fid += 1\n",
    "\n",
    "        F = len(self.feature_vocab)\n",
    "        D = len(data)\n",
    "        X = sparse.dok_matrix((D, F))\n",
    "        for idx, feats in enumerate(data):\n",
    "            for feat in feats:\n",
    "                if feat in self.feature_vocab:\n",
    "                    X[idx, self.feature_vocab[feat]] = feats[feat]\n",
    "\n",
    "        return X\n",
    "\n",
    "\n",
    "    # Train model and evaluate on held-out data\n",
    "    def train(self):\n",
    "        (D,F) = self.trainX.shape\n",
    "        best_dev_accuracy=0\n",
    "        best_model=None\n",
    "        for C in [0.1, 1, 10, 100]:\n",
    "            self.log_reg = linear_model.LogisticRegression(C = C, max_iter=10000)\n",
    "            self.log_reg.fit(self.trainX, self.trainY)\n",
    "            training_accuracy = self.log_reg.score(self.trainX, self.trainY)\n",
    "            development_accuracy = self.log_reg.score(self.devX, self.devY)\n",
    "            if development_accuracy > best_dev_accuracy:\n",
    "                best_dev_accuracy=development_accuracy\n",
    "                best_model=self.log_reg\n",
    "\n",
    "#             print(\"C: %s, Train accuracy: %.3f, Dev accuracy: %.3f\" % (C, training_accuracy, development_accuracy))\n",
    "\n",
    "        self.log_reg=best_model\n",
    "        \n",
    "\n",
    "    def test(self):\n",
    "        return self.log_reg.score(self.testX, self.testY)\n",
    "\n",
    "    def predictions(self):\n",
    "        return self.log_reg.predict(self.testX)\n",
    "    \n",
    "    def featureImportance(self, n=10, new_only = False):\n",
    "        results = []\n",
    "        reverse_vocab=[None]*len(self.log_reg.coef_[0])\n",
    "        weights=self.log_reg.coef_[0]\n",
    "        for k in self.feature_vocab:\n",
    "          reverse_vocab[self.feature_vocab[k]]=k\n",
    "        if new_only:\n",
    "          new_features = set(['econ_term_avg', 'presence_of_curse_words', \"presence_of_links_pic\", 'links', 'length_of_post', 'curse_words_avg', 'econ_term_counts', 'stats', 'years', 'stock_name', 'org'])\n",
    "          for feature, weight in list(reversed(sorted(zip(reverse_vocab, weights), key = operator.itemgetter(1)))):\n",
    "            if feature in new_features:\n",
    "              results.append([feature, weight])\n",
    "          return results        \n",
    "          # binary\n",
    "        if len(self.log_reg.classes_) == 2:\n",
    "          weights=self.log_reg.coef_[0]\n",
    "\n",
    "          cat=self.log_reg.classes_[1]\n",
    "          for feature, weight in list(reversed(sorted(zip(reverse_vocab, weights), key = operator.itemgetter(1))))[:n]:\n",
    "            results.append([feature, weight])\n",
    "          print()\n",
    "\n",
    "          cat=self.log_reg.classes_[0]\n",
    "          for feature, weight in list(sorted(zip(reverse_vocab, weights), key = operator.itemgetter(1)))[:n]:\n",
    "            results.append([feature, weight])\n",
    "          print()\n",
    "\n",
    "          # multiclass\n",
    "        else:\n",
    "          for i, cat in enumerate(self.log_reg.classes_):\n",
    "            weights=self.log_reg.coef_[i]\n",
    "\n",
    "            for feature, weight in list(reversed(sorted(zip(reverse_vocab, weights), key = operator.itemgetter(1))))[:n]:\n",
    "              results.append([feature, weight])\n",
    "            print()\n",
    "\n",
    "        return results\n",
    "\n",
    "\n",
    "        \n",
    "    def printWeights(self, n=10):\n",
    "\n",
    "        reverse_vocab=[None]*len(self.log_reg.coef_[0])\n",
    "        for k in self.feature_vocab:\n",
    "            reverse_vocab[self.feature_vocab[k]]=k\n",
    "\n",
    "        # binary\n",
    "        if len(self.log_reg.classes_) == 2:\n",
    "              weights=self.log_reg.coef_[0]\n",
    "\n",
    "              cat=self.log_reg.classes_[1]\n",
    "              for feature, weight in list(reversed(sorted(zip(reverse_vocab, weights), key = operator.itemgetter(1))))[:n]:\n",
    "                  print(\"%s\\t%.3f\\t%s\" % (cat, weight, feature))\n",
    "              print()\n",
    "\n",
    "              cat=self.log_reg.classes_[0]\n",
    "              for feature, weight in list(sorted(zip(reverse_vocab, weights), key = operator.itemgetter(1)))[:n]:\n",
    "                  print(\"%s\\t%.3f\\t%s\" % (cat, weight, feature))\n",
    "              print()\n",
    "\n",
    "        # multiclass\n",
    "        else:\n",
    "          for i, cat in enumerate(self.log_reg.classes_):\n",
    "\n",
    "              weights=self.log_reg.coef_[i]\n",
    "\n",
    "              for feature, weight in list(reversed(sorted(zip(reverse_vocab, weights), key = operator.itemgetter(1))))[:n]:\n",
    "                  print(\"%s\\t%.3f\\t%s\" % (cat, weight, feature))\n",
    "              print()\n",
    "\n",
    "            "
   ]
  },
  {
   "cell_type": "code",
   "execution_count": 64,
   "metadata": {
    "id": "_c8uNIW-mamE"
   },
   "outputs": [],
   "source": [
    "econ_terms = ['Required return', 'Indifference curve', 'Deflation', 'Short-termism', 'Exogenous', 'Null hypothesis', 'Patents', 'Tax incidence', 'Spot price', 'Outward investment', 'Crowding out', 'Velocity of circulation', 'Substitute goods', 'Relative income hypothesisv', 'Keynes, John Maynard', 'Smith, Adam', 'Inequality', 'Trust', 'Opportunity cost', 'Bonds', 'Economies of scale', 'Consumer surplus', 'European Union', 'Normal goods', 'Bankruptcy', 'National debt', 'J-curve', 'Neo-classical economics', 'Ricardian equivalence', 'Producer prices', 'Institutional economics', 'Boom and bust', 'Nationalisation', 'Transition economies', 'Output', 'Price discrimination', 'Equities', 'Real balance effect', 'Social benefits/costs', 'Quota', 'Big Mac index', 'Total return', 'Value added', 'Principal-agent theory', 'Euro Zone', 'Sustainable growth', 'Offshore', 'Tax burden', 'Property rights', 'Tax arbitrage', 'Shadow price', 'Brand', 'Efficiency', 'Profit margin', 'Deregulation', 'Altruism', 'Predatory pricing', 'Protectionism', 'OPEC', 'CAPM', 'Convergence', 'gni', 'Debt-equity ratio', 'Productivity', 'Tax competition', 'Growth', 'SDR', 'Discounted cashflow', 'Liquidity trap', 'Contagion', 'Satisficing', 'X-efficiency', 'Creative destruction', 'Consumer prices', 'Option', 'Profit', 'Hard currency', 'Factory prices', 'Savings', 'Returns', 'Regression analysis', 'Demographics', 'Expected returns', 'Paris Club', 'Probability', 'Monopoly', 'Transfers', 'Welfare economics', 'Visible trade', 'Mergers and acquisitions', 'Aid', 'Gini coefficient', 'Queueing', 'Usury', 'Assets', 'Underground economy', 'Liquidity', 'Wage drift', 'Financial markets', 'Windfall gains', 'Debt forgiveness', 'Government expenditure', 'Outsourcing', 'Appreciation', 'Nominal value', 'Advertising', 'Export credit', 'ILO', 'International trade', 'Globalisation', 'Percentile', 'Insurance', 'Peak pricing', 'Residual risk', 'Oligopoly', 'Systematic risk', 'Trade unions', 'Arbitrage', 'Bull', 'Imports', 'Stagnation', 'Budget', 'Capital asset pricing model', 'World Trade Organisation', 'Average', 'Consumption', 'Contestable market', 'Hypothecation', 'Structural unemployment', 'Uncertainty', 'Mean', 'Fixed costs', 'Speculative motive', 'Stability and Growth Pact', 'Competitiveness', 'Misery index', 'Services', 'Purchasing power parity', 'Ratings', 'G8', 'Positional goods', 'Gold', 'FDI', 'Vertical integrationj', 'First-mover advantage', 'Marginal', 'Kleptocracy', 'Capital gains', 'Present value', 'Capital adequacy ratio', 'Lock-in', 'Shareholder value', 'Structural adjustment', 'Shock', 'Antitrust', 'Government debt', 'New trade theory', 'Permanent income hypothesis', 'Systemic risk', 'Hedge funds', 'Third way', 'Agricultural policy', 'Cartel', 'Withholding tax', 'Fair trade', 'Pareto efficiency', 'Value at risk', 'Public utility', 'Life', 'Expectations', 'Tax evasion', 'Inward investment', 'Marshall, Alfred', 'Basis point', 'Scarcity', 'Tax efficient', 'Real terms', 'Stagflation', 'Labour theory of value', 'Rationing', 'Inferior goods', 'Money markets', 'Overheating', 'Flotation', 'Negative income tax', 'Government revenue', 'Currency board', 'Gross national product', 'Technical progress', 'Capacity', 'Stress-testing', 'Barriers to entry (or exit)', 'Price', 'Auctions', 'Weightless economy', 'Multiplier', 'Tangible assets', 'Spread', 'Repo', 'Phillips curve', 'Imperfect competition', 'Intangible assets', 'Deficit', 'Interest', 'Monopsony', 'NPV', 'Vertical equity', 'Hawala', 'Giffen goods', 'Ricardo, David', 'Frictional unemployment', 'Wages', 'Default', 'Balance of payments', 'Elasticity', 'Real interest rate', 'G7', 'Quartile', 'Innovation', 'Devaluation', 'Bretton Woods', 'Collateral', 'Variable costs', 'Life-cycle hypothesis', 'Private equity', 'Sunk costs', 'Transparency', 'Median', 'Risk-free rate', 'Capital markets', 'Liberal economics', 'Credit creation', 'Communism', 'Reserve currency', 'NGO', 'Commodity', 'Credit', 'National income', 'Positive economics', 'Diversification', 'Regulatory risk', 'Welfare to work', 'Rent-seeking', 'Capital controls', 'Sharpe ratio', 'New economy', 'Bounded rationality', 'General equilibrium', 'Eurodollar', 'GNP', 'Monetary neutrality', 'Demand', 'Seasonally adjusted', 'Trade-weighted exchange rate', 'Friedman, Milton', 'Dollarisation', 'Hot money', 'Seniority', 'Taxation', 'Stochastic process', 'Concentration', 'Tax avoidance', 'Nash equilibrium', 'Transaction costs', 'Financial intermediary', 'Rate of return', 'Factors of production', 'Financial system', 'Income tax', 'Money', 'Adaptive expectations', 'Firms', 'Natural monopoly', 'Crony capitalism', 'Inflation', 'Investment', 'Current account', 'Over the counter', 'Forecasting', 'Stabilisation', 'Labour intensive', 'Job search', 'Money illusion', 'Discount rate', 'Incumbent advantage', 'Lump-sum tax', 'Manufacturing', 'Network effect', 'Overshooting', 'Reservation wage', 'Voluntary unemployment', 'Government bonds', 'Regulatory failure', 'Futures', 'Regulation', 'Excess returns', 'Risk averse', 'Gross domestic product', 'Depression', \"Gresham's law\", 'Intervention', 'Trade', 'Q theory', 'Basel 1 and 2', 'Expenditure tax', 'Lender of last resort', 'Leverage', 'Soft dollars', 'Business confidence', 'Equilibrium', 'Golden rule', 'Macroeconomic policy', 'Signalling', 'Standard error', 'Regional policy', 'Income effect', 'Seignorage', 'Unions', 'Public-private', 'Swap', 'Replacement cost', 'Liberalisation', 'IMF', 'Secondary market', 'Forward contracts', 'Intellectual capital', 'GDP', 'Interest rate', 'Trade area', 'Diseconomies of scale', 'Open-market operations', 'Moral hazard', 'Subsidy', 'Tax base', 'Backwardation', 'Development economics', 'Laissez-faire', 'Mobility', 'Microeconomics', 'Capital structure', 'Fiscal neutrality', 'Lump of labour fallacy', 'NAIRU', 'Agriculture', 'Supply', 'Restrictive practice', 'Tragedy of the commons', 'Market power', 'International Monetary Fund', 'LIBOR', 'Herfindahl-Hirschman index', 'Nation building', 'Rescheduling', 'Absolute advantage', 'Consumer confidence', \"Buyer's market\", 'De Soto, Hernando', 'Unemployment', 'Common goods', 'Austrian economics', 'Dominant firm', 'Mode', 'Beta', 'Minimum wage', 'Pigou effect', 'World Bank', 'Market failure', 'Sovereign risk', 'Effective exchange rate', 'Cost of capital', 'Human capital', 'Exchange rate', 'Real options theory', 'Treasury bills', 'Prospect theory', 'Econometrics', 'Social capital', 'Gearing', 'Gilts', 'Lagging indicators', 'Recession', 'Search costs', \"Seller's market\", 'Classical dichotomy', 'Trade deficit/surplus', 'Bubble', 'G10', 'Statistical significance', 'House prices', 'Financial centre', 'Regressive tax', 'NAFTA', 'Arbitrage pricing theory', 'Deposit insurance', 'Labour', 'Free trade', \"Say's law\", 'Terms of trade', 'Transmission mechanism', 'Supply-side policies', 'Tariff', 'Government', 'Long run', 'Social market', 'Economic indicator', 'Black-Scholes', 'Volatility', 'Speculation', 'Leading indicators', 'Normative economics', 'Scenario analysis', 'Dumping', 'Indexation', 'GATT', 'Disinflation', 'Capital', 'Rational expectations', 'Credit crunch', 'Market forces', 'Stocks', 'Poverty trap', 'Preference', 'Nobel prize for economics', 'Regulatory capture', 'ECB', 'Dividend', 'Percentage point', 'Equity', 'Soft currency', 'Comparative advantage', 'Homo economicus', 'Animal spirits', 'Reserve ratio', 'Hayek, Friedrich', 'Privatisation', 'LBO', 'Full employment', 'Division of labour', 'Emerging markets', 'Enron', 'Exchange controls', 'Risk neutral', 'International aid', 'Labour market flexibility', 'Time value of money', 'Financial instrument', 'Marshall Plan', 'Factor cost', 'Stakeholders', 'Replacement rate', 'Venture capital', 'Rationality', 'Leveraged buy-out', 'Price elasticity', 'Developing countries', 'Shorting', 'Currency peg', 'Equity risk premium', 'Behavioural economics', 'Sterilised intervention', 'Time series', 'Tobin, James', 'Risk', 'Shares', 'Tax haven', 'Inelastic', 'OECD', 'Monopolistic competition', 'Public spending', 'Income', 'Propensity', 'Insider trading', 'Regulatory arbitrage', 'Commoditisation', 'Transfer pricing', 'Wealth tax', 'Asymmetric information', 'Competitive advantage', 'General Agreement on Tariffs and Trade', 'Entrepreneur', 'Diminishing returns', 'Rate of return regulation', 'Sticky prices', 'Production function', 'Precautionary motive', 'Profit maximisation', 'Rent', 'Path dependence', 'Fiscal policy', \"Okun's law\", 'Socialism', 'Endogenous', 'Progressive taxation', 'Safe harbour', 'Economics', 'Real exchange rate', 'Yield curve', 'Free riding', 'Corruption', 'Environmental economics', 'Modelling', 'Capitalism', 'Economic and monetary union', 'Fine tuning', 'Derivatives', 'Economic man', 'Evolutionary economics', 'Tiger economies', 'Mean reversion', 'G26', 'Poverty', 'Reserve requirements', 'Risk premium', 'Infrastructure', 'Land tax', 'Central bank', 'Macroeconomics', 'Quantity theory of money', \"Engel's law\", 'Human Development Index', 'Disintermediation', 'Sequencing', 'Keynesian', 'R squared', 'Reserves', 'PPP', 'Schumpeter, Joseph', 'Simple interest', 'European Central Bank', 'Joint supply', 'Competition', 'Game theory', 'Utility', 'Asymmetric shock', 'Economic sanctions', 'Bank', 'Index numbers', 'Compound interest', \"Prisoners' dilemma\", 'Optimal currency area', 'Asian crisis', 'Barter', 'Invisible trade', 'Yield gap', 'Conditionality', 'Efficiency wages', 'Output gap', 'Producer surplus', 'Public goods', 'Price mechanism', 'Most-favoured nation', 'Efficient market hypothesis', 'Perfect competition', 'Hedge', 'Net present value', 'Generational accounting', 'Population', 'Ceteris paribus', 'Redlining', 'Price regulation', 'Deadweight cost/lossDebt', 'Balanced budget', 'Law and economics', 'Economic rent', 'Securitisation', 'Standard deviation', 'Liquidity preference', 'Business cycle', 'Scalability', 'Trough', 'Plaza Accord', 'Free lunch', 'Chicago School', 'G21', 'Marx, Karl', 'Mixed economy', 'Coase theorem', 'Windfall profit', 'Invisible hand', 'Luxuries', 'Laffer curve', 'Bear', 'Wealth effect', 'Demand curve', 'Foreign direct investment', 'Externality', 'Modern portfolio theory', 'Menu costs', 'Greenspan, Alan', 'Kondratieff wave', 'Land', 'Classical economics', 'Reflation', 'New growth theory', 'International Labour Organisation', 'Securities', 'Supply curve', 'Information', 'Hyper-inflation', 'Risk seeking', 'Institutional investors', 'Indirect taxation', 'Soft loan', 'Exports', 'Capital intensive', 'Enterprise', 'G22', 'Winner-takes-all markets', 'Agency costs', 'Market capitalisation', 'Monetarism', 'Medium term', 'Charity', 'Random walk', 'Adverse selection', 'Catch-up effect', 'Collusion', 'Gold standard', 'Black economy', 'Federal Reserve System', 'Horizontal integration', 'Unemployment trap', 'Disequilibrium', 'Inflation target', 'Optimum', 'Substitution effect', 'Capital flight', 'Direct taxation', 'Creditor', 'Amortisation', 'Global public goods', 'Closed economy', 'Mercantilism', 'Fungible', 'Natural rate of unemployment', 'Autarky', 'Horizontal equity', 'Fiscal drag', 'Monetary policy', 'Non-price competition', 'Revealed preference', 'Yield', 'Command economy', 'Euro', 'Neutrality', 'Reciprocity', 'Risk management', 'Cost-benefit analysis', 'Depreciation', 'Trade cycle', 'Price/earnings ratio', 'Money supply', 'Second-best theory', 'Zero-sum game', 'Welfare', 'Complementary goods', 'Tick', 'Open economy', 'Hysteresis', 'Cannibalise']"
   ]
  },
  {
   "cell_type": "code",
   "execution_count": 65,
   "metadata": {
    "id": "lNUeMCBapSae"
   },
   "outputs": [],
   "source": [
    "# import pandas module \n",
    "import pandas as pd \n",
    "    \n",
    "# making dataframe \n",
    "# S&P 500 stock name list. Set the parameter of the function call below to where you stored \"all_stocks_5yr.csv\"\n",
    "stocks  = pd.read_csv(\"all_stocks_5yr.csv\") \n",
    "\n",
    "stocks_list = list(stocks[\"Name\"].unique())"
   ]
  },
  {
   "cell_type": "code",
   "execution_count": 66,
   "metadata": {
    "id": "1LvqqoHu1MiJ"
   },
   "outputs": [],
   "source": [
    "organization_list = [\"NYSE\", \"SEC\", \"Federal Reserve\", \"Senator\",  \"Congress\" ,\"germany\",  \"russia\" \"tech\", \"growth\", \"ratio\", \"index\", \"report\", \"production\", \"google\" , \"microsoft\", \"issuing\", \"share\", \"price\", \"Biden\", \"equity\", \"inflation\", \"Senate\", \"Dow\", \"Fed\", \"S&P 500\", \"NFT\", \"ETF\", \"funds\", \"10-Year U.S. Treasury\", \"bond\"]"
   ]
  },
  {
   "cell_type": "code",
   "execution_count": 67,
   "metadata": {
    "id": "AKj-eizfZZC9"
   },
   "outputs": [],
   "source": [
    "curse_words = set(['stupid', 'dumb', 'fucks', 'bitch', 'retard', 'retards', 'autistic', 'autist', 'autists','dumbass', \"fuck\", \"shit\"])"
   ]
  },
  {
   "cell_type": "code",
   "execution_count": 68,
   "metadata": {
    "id": "pwISzrSxe5z3"
   },
   "outputs": [],
   "source": [
    "from pandas.core.common import consensus_name_attr\n",
    "def binary_bow_featurize(text):\n",
    "    feats = {}\n",
    "    words = nltk.word_tokenize(text)\n",
    "\n",
    "    for word in words:\n",
    "        word=word.lower()\n",
    "        feats[word]=1\n",
    "            \n",
    "    return feats\n",
    "\n",
    "def featurization(text):\n",
    "    #explanation of features in analysis\n",
    "    feats = {}\n",
    "\n",
    "    words = nltk.word_tokenize(text)\n",
    "    \n",
    "    total = 0\n",
    "    curse = 0\n",
    "\n",
    "    \n",
    "    for word in words:\n",
    "        word=word.lower()\n",
    "        feats[word]=1\n",
    "        total += 1\n",
    "    # below is our implementation of additional new features\n",
    "    curse_text = text.lower()\n",
    "    for i in curse_words:\n",
    "      curse += text.count(i)\n",
    "      if i.lower() in curse_text:\n",
    "        b = 8\n",
    "        feats['presence_of_curse_words'] = 1\n",
    "      \n",
    "    feats[\"presence_of_links_pic\"] = 0\n",
    "    if 'https://preview.redd.it/'  in text:\n",
    "      a = 8\n",
    "      feats['presence_of_links_pic'] = 1\n",
    "    \n",
    "    feats[\"links\"] = 0\n",
    "    if \"https://www.\" in text:\n",
    "      feats[\"links\"] = 1\n",
    " \n",
    "    feats['length_of_post'] = total\n",
    "    feats['curse_words_avg'] = curse / total\n",
    "\n",
    "    \n",
    "    stats = [\"+\", \"-\", \"percent\", \"points\", \"%\", \"percentage\", \"increase\", \"decrease\",  \"at least\", \"best\", \"biggest\", \"worst\", \"smallest\", \"dive\", \"soar\", \"bearish\", \"bullish\", \"lower\", \"higher\", \"than\", \"slowly\", \"quickly\", \"first\"]\n",
    "    years = [\"2022\", \"2021\", \"2020\", \"2019\", \"2018\", \"2017\", \"2016\", \"2015\", \"2014\", \"2013\", \"2012\", \"2011\", \"2010\", \"2009\", \"2008\", \"2007\", \"2006\", \"2005\", \"2004\", \"2003\", \"2002\", \"2001\", \"2000\"]\n",
    " \n",
    "    lower_text = text.lower()\n",
    "    feats['econ_term_counts'] = 0\n",
    "    feats[\"stats\"] = 0\n",
    "    feats[\"years\"] = 0\n",
    "\n",
    "    for i in econ_terms:\n",
    "      i = i.lower()\n",
    "      if i in lower_text:\n",
    "        feats['econ_term_counts'] += 1\n",
    "\n",
    "    feats['econ_term_avg'] = feats['econ_term_counts'] / total\n",
    "\n",
    "    for i in years:\n",
    "      if i in lower_text:\n",
    "        feats[\"years\"] += 1\n",
    "    \n",
    "    for i in stats:\n",
    "      if i in lower_text:\n",
    "        feats[\"stats\"] += 1\n",
    "     \n",
    "    for i in stocks_list:\n",
    "      if i in text:\n",
    "        feats[\"stock_name\"] = 1\n",
    "    \n",
    "    for i in organization_list:\n",
    "      if i in text:\n",
    "        i = i.lower()\n",
    "        feats[\"org\"] = 1\n",
    "\n",
    "    return feats\n",
    "\n"
   ]
  },
  {
   "cell_type": "code",
   "execution_count": 69,
   "metadata": {
    "id": "4Pj1j286e5z4"
   },
   "outputs": [],
   "source": [
    "def confidence_intervals(accuracy, n, significance_level):\n",
    "    critical_value=(1-significance_level)/2\n",
    "    z_alpha=-1*norm.ppf(critical_value)\n",
    "    se=math.sqrt((accuracy*(1-accuracy))/n)\n",
    "    return accuracy-(se*z_alpha), accuracy+(se*z_alpha)"
   ]
  },
  {
   "cell_type": "code",
   "execution_count": 70,
   "metadata": {
    "id": "6Mrw1onoe5z4"
   },
   "outputs": [],
   "source": [
    "\n",
    "def run(trainingFile, devFile, testFile, improved_version=True):\n",
    "    trainX, trainY=load_data(trainingFile)\n",
    "    devX, devY=load_data(devFile)\n",
    "    testX, testY=load_data(testFile)\n",
    "    if improved_version:\n",
    "      simple_classifier = Classifier(featurization, trainX, trainY, devX, devY, testX, testY)\n",
    "    else:\n",
    "      simple_classifier = Classifier(binary_bow_featurize, trainX, trainY, devX, devY, testX, testY)\n",
    "    simple_classifier.train()\n",
    "    accuracy=simple_classifier.test()\n",
    "    lower, upper=confidence_intervals(accuracy, len(testY), .95)\n",
    "    print(\"Test accuracy for best dev model: %.3f, 95%% CIs: [%.3f %.3f]\\n\" % (accuracy, lower, upper))\n",
    "    if improved_version:\n",
    "      simple_classifier.printWeights(70)\n",
    "    return simple_classifier\n"
   ]
  },
  {
   "cell_type": "code",
   "execution_count": 71,
   "metadata": {
    "colab": {
     "base_uri": "https://localhost:8080/",
     "height": 0
    },
    "id": "ZdwcCzH9e5z5",
    "outputId": "91092e61-aa42-4b7b-ffdd-0ee57bf882b7"
   },
   "outputs": [
    {
     "name": "stdout",
     "output_type": "stream",
     "text": [
      "Improved Version:\n",
      "Test accuracy for best dev model: 0.835, 95% CIs: [0.784 0.886]\n",
      "\n",
      "1\t0.479\torg\n",
      "1\t0.450\tstats\n",
      "1\t0.387\ttrading\n",
      "1\t0.354\t:\n",
      "1\t0.321\toil\n",
      "1\t0.311\thttps\n",
      "1\t0.305\tthey\n",
      "1\t0.302\tthe\n",
      "1\t0.275\tlinks\n",
      "1\t0.275\tsince\n",
      "1\t0.274\tyears\n",
      "1\t0.255\twar\n",
      "1\t0.254\tthink\n",
      "1\t0.253\tsource\n",
      "1\t0.237\t!\n",
      "1\t0.229\trussian\n",
      "1\t0.226\tbe\n",
      "1\t0.226\t2021\n",
      "1\t0.222\tsaid\n",
      "1\t0.216\tafter\n",
      "1\t0.215\tof\n",
      "1\t0.208\tlooks\n",
      "1\t0.205\t%\n",
      "1\t0.201\tby\n",
      "1\t0.197\tbest\n",
      "1\t0.193\tgoogle\n",
      "1\t0.188\tcourse\n",
      "1\t0.188\t15\n",
      "1\t0.187\tsee\n",
      "1\t0.186\ttheir\n",
      "1\t0.177\tmarch\n",
      "1\t0.174\tformat=png\n",
      "1\t0.173\tsure\n",
      "1\t0.168\tpart\n",
      "1\t0.164\t...\n",
      "1\t0.163\tprice\n",
      "1\t0.162\tas\n",
      "1\t0.158\tmay\n",
      "1\t0.156\the\n",
      "1\t0.155\tequity\n",
      "1\t0.154\twill\n",
      "1\t0.152\tproduction\n",
      "1\t0.151\thas\n",
      "1\t0.151\tyet\n",
      "1\t0.149\tbiden\n",
      "1\t0.149\tfor\n",
      "1\t0.149\tsuper\n",
      "1\t0.145\tgermany\n",
      "1\t0.141\tsocial\n",
      "1\t0.141\tevery\n",
      "1\t0.140\tto\n",
      "1\t0.139\thave\n",
      "1\t0.138\ttalk\n",
      "1\t0.137\tadvice\n",
      "1\t0.136\tproducts\n",
      "1\t0.132\tshare\n",
      "1\t0.132\tunder\n",
      "1\t0.132\teu\n",
      "1\t0.131\tsmall\n",
      "1\t0.131\tcoming\n",
      "1\t0.131\twhile\n",
      "1\t0.130\treport\n",
      "1\t0.127\town\n",
      "1\t0.126\tmicrosoft\n",
      "1\t0.126\tmatter\n",
      "1\t0.126\tstory\n",
      "1\t0.125\tcompany\n",
      "1\t0.124\tdata\n",
      "1\t0.123\tpenny\n",
      "1\t0.123\tanother\n",
      "\n",
      "0\t-0.324\ti\n",
      "0\t-0.322\tmy\n",
      "0\t-0.260\tstill\n",
      "0\t-0.260\tcan\n",
      "0\t-0.239\twhat\n",
      "0\t-0.216\tshit\n",
      "0\t-0.200\tcash\n",
      "0\t-0.199\tcalls\n",
      "0\t-0.196\thelp\n",
      "0\t-0.191\tsome\n",
      "0\t-0.186\tspy\n",
      "0\t-0.179\tx200b\n",
      "0\t-0.176\tpresence_of_curse_words\n",
      "0\t-0.174\tback\n",
      "0\t-0.173\treally\n",
      "0\t-0.166\tmake\n",
      "0\t-0.166\tso\n",
      "0\t-0.164\tgetting\n",
      "0\t-0.162\tn't\n",
      "0\t-0.162\tfar\n",
      "0\t-0.161\tplace\n",
      "0\t-0.159\tincreased\n",
      "0\t-0.159\tme\n",
      "0\t-0.156\tthanks\n",
      "0\t-0.155\teach\n",
      "0\t-0.153\tfuck\n",
      "0\t-0.152\tits\n",
      "0\t-0.151\tanything\n",
      "0\t-0.151\tam\n",
      "0\t-0.150\tput\n",
      "0\t-0.150\taround\n",
      "0\t-0.147\t'll\n",
      "0\t-0.145\trest\n",
      "0\t-0.145\tever\n",
      "0\t-0.143\t6\n",
      "0\t-0.142\tyou\n",
      "0\t-0.142\tm\n",
      "0\t-0.142\t100\n",
      "0\t-0.139\twhich\n",
      "0\t-0.136\teveryone\n",
      "0\t-0.135\tsell\n",
      "0\t-0.135\tfellow\n",
      "0\t-0.134\twould\n",
      "0\t-0.133\tfree\n",
      "0\t-0.133\thold\n",
      "0\t-0.130\ton\n",
      "0\t-0.130\tstocks\n",
      "0\t-0.130\tretards\n",
      "0\t-0.129\tliterally\n",
      "0\t-0.128\trate\n",
      "0\t-0.128\twas\n",
      "0\t-0.127\tgme\n",
      "0\t-0.127\twsb\n",
      "0\t-0.126\ttimes\n",
      "0\t-0.126\twant\n",
      "0\t-0.125\tthem\n",
      "0\t-0.123\twish\n",
      "0\t-0.122\tabove\n",
      "0\t-0.122\tright\n",
      "0\t-0.121\tdollars\n",
      "0\t-0.121\tdifference\n",
      "0\t-0.121\tvalue\n",
      "0\t-0.121\tdid\n",
      "0\t-0.120\trates\n",
      "0\t-0.120\tshorted\n",
      "0\t-0.119\tplaying\n",
      "0\t-0.118\tgive\n",
      "0\t-0.116\tridiculous\n",
      "0\t-0.115\tloss\n",
      "0\t-0.115\tthinking\n",
      "\n",
      "\n",
      "\n"
     ]
    }
   ],
   "source": [
    "print(\"Improved Version:\")\n",
    "gid=10\n",
    "trainingFile = \"train.txt\"\n",
    "devFile = \"dev.txt\" \n",
    "testFile = \"test.txt\" \n",
    "    \n",
    "improved_model = run(trainingFile, devFile, testFile)\n",
    "predictions = improved_model.predictions()\n",
    "implementedtopfeatureweights = improved_model.featureImportance(10, True)\n",
    "topfeatureweights = improved_model.featureImportance(6) \n"
   ]
  },
  {
   "cell_type": "markdown",
   "metadata": {
    "id": "Y0V6kKGzun7V"
   },
   "source": [
    "**Test accuracy for best dev model: 0.835, 95% Confidence Intervals: [0.784 0.886]**"
   ]
  },
  {
   "cell_type": "markdown",
   "metadata": {
    "id": "TFKl6dA_8_hN"
   },
   "source": [
    "#**Baseline Line Model for Comparison**"
   ]
  },
  {
   "cell_type": "code",
   "execution_count": 72,
   "metadata": {
    "colab": {
     "base_uri": "https://localhost:8080/",
     "height": 0
    },
    "id": "K2GCIfWlutVv",
    "outputId": "b842cb1c-e258-4f64-c75b-6e47413390af"
   },
   "outputs": [
    {
     "name": "stdout",
     "output_type": "stream",
     "text": [
      "Baseline Model Performance for Comparison:\n",
      "Test accuracy for best dev model: 0.785, 95% CIs: [0.728 0.842]\n",
      "\n"
     ]
    }
   ],
   "source": [
    "print(\"Baseline Model Performance for Comparison:\")    \n",
    "base_model = run(trainingFile, devFile, testFile, False)\n",
    "base_predictions = base_model.predictions()"
   ]
  },
  {
   "cell_type": "markdown",
   "metadata": {
    "id": "6VmzRoWQP8R5"
   },
   "source": [
    "## **Purpose of NLP Task and Model**"
   ]
  },
  {
   "cell_type": "markdown",
   "metadata": {
    "id": "iXAsjR0cQCEA"
   },
   "source": [
    "On reddit, there is a subreddit called wallstreetbets where members talk about the status of the stock market and economy and what they are going to invest in. Many people come to the subreddit to learn about the stock market and economy. On the other hand, the subreddit is also filled with memes and other miscellaneous information. We wanted to find out if it is possible to build a recomendation system that can separate informative posts from uninformative posts. As a result we built a model that is able to classify a reddit post as informative or uninformative. "
   ]
  },
  {
   "cell_type": "markdown",
   "metadata": {
    "id": "JdWmx1c9DTET"
   },
   "source": [
    "## **Reporting Test Accuracy and Confidence Intervals**"
   ]
  },
  {
   "cell_type": "markdown",
   "metadata": {
    "id": "tePbQJlKDNGK"
   },
   "source": [
    "**Test accuracy for improved model: 0.835, 95% Confidence Intervals: [0.784 0.886]**\n",
    "\n",
    "Our improved model performs better than the baseline logistic regression model, which has an accuracy around 0.785. This shows that the features we implemented in our improved model had an increasing effect on the accuracy and performance of the model. Later on in the report is an in depth analysis of the precision, recall, and f1-score of the improved model we built since that is a better evaluation of a binary classification model. \n",
    "\n",
    "\n",
    "\n"
   ]
  },
  {
   "cell_type": "markdown",
   "metadata": {
    "id": "39cc9BogCFvS"
   },
   "source": [
    "## **Explaining Baseline Model vs Improved Model**"
   ]
  },
  {
   "cell_type": "markdown",
   "metadata": {
    "id": "0lXJ-_DiCPVO"
   },
   "source": [
    "The Baseline model's features mainly come from the bag of words implementation. Our improved model builds upon the baseline model my adding more robust features under the names of 'econ_term_avg', 'presence_of_curse_words', \"presence_of_links_pic\", 'links', 'length_of_post', 'curse_words_avg', 'econ_term_counts', 'stats', 'years', 'stock_name', 'org'. Below are explanations of each feature.\n",
    "\n",
    "\n",
    "\n",
    "*   \"econ_term_avg\": number of words in post that are econ terminology / total number of words in the post\n",
    "*   \"presence_of_curse_words\": 0 if the post did not contain a single curse word, 1 otherwise\n",
    "*   \"presence_of_links_pic\": 1 if the post contained an image, 0 otherwise\n",
    "*   \"links\": 1 if the post contained a link, 0 otherwise\n",
    "*   \"length_of_post\" how many characters long the post is\n",
    "*   \"curse_words_avg\": number of words in post that are curse words / total number of words in posts\n",
    "*   \"econ_term_counts\": number of words in post that are econ terms \n",
    "*   \"stats\": number of words in a post that are highly likely to be associated with facts (such as \"increase\", \"decrease\", \"percentage\", and etc)\n",
    "*   \"years\": the number of times a year is referenced in the post\n",
    "*   \"stock_name\": 1 if the post contains a name of a stock, 0 otherwise\n",
    "*   \"org\": 1 if the post contains the name of an important/powerful entity, whether that is the name of a company, platform, financial institution, or the name of important people.   \n",
    "\n",
    "\n",
    "**Background information on both models: Both models output either a 0 or 1. 0 stands for uninformative while 1 stands for informative.**\n",
    "\n",
    "\n",
    "\n",
    "\n",
    "\n",
    "\n",
    "\n",
    "\n"
   ]
  },
  {
   "cell_type": "markdown",
   "metadata": {
    "id": "Lt8IWlG2heAQ"
   },
   "source": [
    "## **Analyzing Improved Model Feature Importance**"
   ]
  },
  {
   "cell_type": "markdown",
   "metadata": {
    "id": "KzFfFgfZ9ubl"
   },
   "source": [
    "Below are the feature importance values (model coefficient values) of all features we ourselves implemented, which include all features other than the BOW features. Also below is a graph of the feature importance values."
   ]
  },
  {
   "cell_type": "code",
   "execution_count": 73,
   "metadata": {
    "colab": {
     "base_uri": "https://localhost:8080/",
     "height": 806
    },
    "id": "bDGlXUam9qO_",
    "outputId": "b6ae4cda-18ed-4d22-8110-cf76bf195c60"
   },
   "outputs": [
    {
     "name": "stdout",
     "output_type": "stream",
     "text": [
      "org :  0.4793949915632445\n",
      "\n",
      "stats :  0.44953560907070517\n",
      "\n",
      "links :  0.2754001157090046\n",
      "\n",
      "years :  0.274106759000315\n",
      "\n",
      "presence_of_links_pic :  0.10334496242670077\n",
      "\n",
      "stock_name :  0.05611665372760378\n",
      "\n",
      "econ_term_counts :  0.05516532967407358\n",
      "\n",
      "length_of_post :  -0.0004113738866123286\n",
      "\n",
      "econ_term_avg :  -0.0006835713628838452\n",
      "\n",
      "curse_words_avg :  -0.013452356068609552\n",
      "\n",
      "presence_of_curse_words :  -0.17599080593546482\n",
      "\n"
     ]
    },
    {
     "data": {
      "image/png": "[encoded data removed]",
      "text/plain": [
       "<Figure size 432x288 with 1 Axes>"
      ]
     },
     "metadata": {
      "needs_background": "light"
     },
     "output_type": "display_data"
    }
   ],
   "source": [
    "#graph and feature importance values (model coefficient values) of all features we ourselves implemented, which include all features other than the BOW features.\n",
    "topnewfeats = plt.bar([x[0] for x in implementedtopfeatureweights], [x[1] for x in implementedtopfeatureweights])\n",
    "plt.xticks(rotation = 90)\n",
    "plt.xlabel(\"Features\")\n",
    "plt.ylabel(\"Feature Importance/Model Coefficient values\")\n",
    "plt.title(\"Top 6 Newly Implemented Features for Informativness & Noninformativeness\")\n",
    "for i in implementedtopfeatureweights:\n",
    "  print(i[0], \": \", i[1])\n",
    "  print()"
   ]
  },
  {
   "cell_type": "markdown",
   "metadata": {
    "id": "yF-kwQ6y6YJ8"
   },
   "source": [
    "Since the baseline model was a Logistic Regression BOW model while the improved model we developed was the baseline model with extra features that we implemented through feature engineering, we decided to analyze how well our implemented features did. The graph above shows the model coefficients of these features. It can be seen that the “org” and “stats” features performed considerably better than other features. This logically makes sense since informative posts about the economy or stock market tend to bring up the names of companies as well as facts/numbers about their performances. Likewise the feature we implemented that performed well in identifying posts to be uninformative was the “presence_of_curse_words” features. This makes sense because posts that use more curse words tend to be posts that insult others or rant/ramble on. On the other hand, it can be seen that features such as “length of post” and “econ term present avg” seemed to have feature importance values very close to 0. We decided to initially featurize the length of a post because posts that are packed with information tend to easily be identified as informative posts. We decided to also featurize the percentage of words in a post that are economic terms because informative reddit posts about the economy/stock market should intuitively use more economic/financial terms. After analyzing the mistakes the model made on the test data, we determined that the \"length_of_post\" feature was not an effective because shorter posts can be packed with useful information and longer posts can be packed with fluff and unrelated information. Moreover, we determined that our “econ_term_present_avg” feature performed poorly because many posts exist that use slang or basic language to explain important information about the stock market or economy."
   ]
  },
  {
   "cell_type": "markdown",
   "metadata": {
    "id": "lCVQZbcaaIQT"
   },
   "source": [
    "Now below is a graph and a list of the top 6 features in our model that contributed towards informativeness, and the top 6 features that contributed twoards uninformativeness. These include features from the BOW model. "
   ]
  },
  {
   "cell_type": "code",
   "execution_count": 74,
   "metadata": {
    "colab": {
     "base_uri": "https://localhost:8080/",
     "height": 749
    },
    "id": "T2iR1PUJalaV",
    "outputId": "1670d48a-1327-4843-f00c-7f3ea16981bd"
   },
   "outputs": [
    {
     "name": "stdout",
     "output_type": "stream",
     "text": [
      "org :  0.4793949915632445\n",
      "\n",
      "stats :  0.44953560907070517\n",
      "\n",
      "trading :  0.38657878331636863\n",
      "\n",
      ": :  0.3543707988167438\n",
      "\n",
      "oil :  0.32075611762100353\n",
      "\n",
      "https :  0.311067703698142\n",
      "\n",
      "i :  -0.3238797383443121\n",
      "\n",
      "my :  -0.3220308926970006\n",
      "\n",
      "still :  -0.2596025096524858\n",
      "\n",
      "can :  -0.25957646768387355\n",
      "\n",
      "what :  -0.23867454956853978\n",
      "\n",
      "shit :  -0.21612483021627674\n",
      "\n"
     ]
    },
    {
     "data": {
      "image/png": "[encoded data removed]",
      "text/plain": [
       "<Figure size 432x288 with 1 Axes>"
      ]
     },
     "metadata": {
      "needs_background": "light"
     },
     "output_type": "display_data"
    }
   ],
   "source": [
    "topfeats = plt.bar([x[0] for x in topfeatureweights], [x[1] for x in topfeatureweights], width = 0.8)\n",
    "plt.xticks(rotation = 90)\n",
    "plt.xlabel(\"Feature Names\")\n",
    "plt.ylabel(\"Feature Importance/Model Coefficient values\")\n",
    "plt.title(\"Top 6 Features for Informativness and Noninformativeness\")\n",
    "for i in topfeatureweights:\n",
    "  print(i[0], \": \", i[1])\n",
    "  print()"
   ]
  },
  {
   "cell_type": "markdown",
   "metadata": {
    "id": "wQ9kk2FJbrEx"
   },
   "source": [
    "The graph above shows the top 6 best overall performing features for classifying posts as informative and top 6 best overall performing features for classifying posts as uninformative. For informative posts, it can be seen that the features we implemented, “org” and “stats” had the best performance. Intuitively this makes sense because posts that reference organizations or statistics/data tend to be informative about the economy or stock market. Features from the baseline BOW model also seem to have still performed very well with “I” being the best feature for determining if a post is uninformative. This may be because posts that use “I” and \"my\" a lot tend to be personal stories or rants that are not very informative about the economy or stock market.\n",
    "\n",
    "An interesting feature to note is that \"oil\" was part of the 6 top performing features for determining if a post was informative. A logical reason for why \"oil\" is a higher performing feature is becuase the oil industry is one of the most influential industries in the economy/stock market and oil is so important that even countries fight over it. This shows that our model has been able to \"learn\" or identify mentions of oil as signs of the post being highly informative and highly relevant to the economy/stock market. \n"
   ]
  },
  {
   "cell_type": "markdown",
   "metadata": {
    "id": "OElW7HVhgt2e"
   },
   "source": [
    "## **Analyzing TP, TN, FP, FN, Precision, Recall, F-1 Score** "
   ]
  },
  {
   "cell_type": "code",
   "execution_count": 75,
   "metadata": {
    "id": "5KSsmlFfFZH_"
   },
   "outputs": [],
   "source": [
    "testX, testY=load_data(testFile)"
   ]
  },
  {
   "cell_type": "code",
   "execution_count": 76,
   "metadata": {
    "id": "QcHNG20zF9KQ"
   },
   "outputs": [],
   "source": [
    "from sklearn.metrics import confusion_matrix, ConfusionMatrixDisplay"
   ]
  },
  {
   "cell_type": "code",
   "execution_count": 77,
   "metadata": {
    "id": "ROpHEDwkF-vb"
   },
   "outputs": [],
   "source": [
    "cm = confusion_matrix(predictions, testY)\n",
    "con_matrix = ConfusionMatrixDisplay(confusion_matrix=cm)"
   ]
  },
  {
   "cell_type": "code",
   "execution_count": 78,
   "metadata": {
    "id": "1BFdGprZG1-t"
   },
   "outputs": [],
   "source": [
    "tn, fp, fn, tp = cm.ravel()"
   ]
  },
  {
   "cell_type": "code",
   "execution_count": 79,
   "metadata": {
    "id": "DkeIXp41Hag8"
   },
   "outputs": [],
   "source": [
    "def scoring_function(tn, fp, fn, tp):\n",
    "  precision = tp / (tp + fp)\n",
    "  recall = tp / (tp + fn)\n",
    "  f_score = (2 * precision * recall) / (precision + recall)\n",
    "  return precision, recall, f_score"
   ]
  },
  {
   "cell_type": "code",
   "execution_count": 80,
   "metadata": {
    "id": "ievAix5HINlH"
   },
   "outputs": [],
   "source": [
    "precision, recall, f_score = scoring_function(tn, fp, fn, tp)  "
   ]
  },
  {
   "cell_type": "markdown",
   "metadata": {
    "id": "40zzKddIy7sJ"
   },
   "source": [
    "**Below is the Confusion Matrix of the Baseline Model**\n",
    "\n",
    "\n"
   ]
  },
  {
   "cell_type": "code",
   "execution_count": 81,
   "metadata": {
    "colab": {
     "base_uri": "https://localhost:8080/",
     "height": 350
    },
    "id": "ToGxx1Ql1ed8",
    "outputId": "1ee69c0c-d7bf-46a4-87f3-273aabb1d446"
   },
   "outputs": [
    {
     "name": "stdout",
     "output_type": "stream",
     "text": [
      "Confusion Matrix of Baseline Model: \n",
      "True Positives: 43   True Negatives: 114\n",
      "False Negatives: 15   False Positives: 28\n",
      "Precision: 0.6056338028169014   Recall: 0.7413793103448276   F-1 Score: 0.6666666666666667\n"
     ]
    },
    {
     "data": {
      "image/png": "[encoded data removed]",
      "text/plain": [
       "<Figure size 432x288 with 2 Axes>"
      ]
     },
     "metadata": {
      "needs_background": "light"
     },
     "output_type": "display_data"
    }
   ],
   "source": [
    "print(\"Confusion Matrix of Baseline Model: \")\n",
    "basecm = confusion_matrix(base_predictions, testY)\n",
    "base_con_matrix = ConfusionMatrixDisplay(confusion_matrix=basecm)\n",
    "b_tn, b_fp, b_fn, b_tp = basecm.ravel()\n",
    "b_precision, b_recall, b_f_score = scoring_function(b_tn, b_fp, b_fn, b_tp)  \n",
    "base_con_matrix.plot()\n",
    "print(\"True Positives: \" + str(b_tp), \" \", \"True Negatives: \" + str(b_tn))\n",
    "print(\"False Negatives: \" + str(b_fn), \" \", \"False Positives: \" + str(b_fp))\n",
    "print(\"Precision: \" + str(b_precision),\" \", \"Recall: \" + str(b_recall),\" \",\"F-1 Score: \" + str(b_f_score))"
   ]
  },
  {
   "cell_type": "markdown",
   "metadata": {
    "id": "dmEX_21C1mYe"
   },
   "source": [
    "**Below is the Confusion Matrix of the Improved Model**"
   ]
  },
  {
   "cell_type": "code",
   "execution_count": 82,
   "metadata": {
    "colab": {
     "base_uri": "https://localhost:8080/",
     "height": 354
    },
    "id": "gi2VW7R4eGHG",
    "outputId": "38694c80-5207-49ef-d8aa-b11bc42241b9"
   },
   "outputs": [
    {
     "name": "stdout",
     "output_type": "stream",
     "text": [
      "Confusion Matrix of Improved Model: \n",
      "True Positives: 47   True Negatives: 120\n",
      "False Negatives: 9   False Positives: 24\n",
      "Precision: 0.6619718309859155   Recall: 0.8392857142857143   F-1 Score: 0.7401574803149606\n"
     ]
    },
    {
     "data": {
      "image/png": "[encoded data removed]",
      "text/plain": [
       "<Figure size 432x288 with 2 Axes>"
      ]
     },
     "metadata": {
      "needs_background": "light"
     },
     "output_type": "display_data"
    }
   ],
   "source": [
    "print(\"Confusion Matrix of Improved Model: \")\n",
    "con_matrix.plot()\n",
    "print(\"True Positives: \" + str(tp), \" \", \"True Negatives: \" + str(tn))\n",
    "print(\"False Negatives: \" + str(fn), \" \", \"False Positives: \" + str(fp))\n",
    "print(\"Precision: \" + str(precision),\" \", \"Recall: \" + str(recall),\" \",\"F-1 Score: \" + str(f_score))"
   ]
  },
  {
   "cell_type": "markdown",
   "metadata": {
    "id": "DFu6ygbkdqw5"
   },
   "source": [
    "Above are two Confusion matrices with the quantities of the True Positives, True Negatives, False Negatives, False Positives, Precision, Recall, and F-1 Score printed above. \n",
    "\n",
    "Taking a look at both matrices, tt can be seen from the matrix that there is indeed a class imbalance in our dataset. The test data set contains roughly 129 posts that are labeled as uninformative and 71 posts that are labeled as informative. Hence, there is roughly around 2x more uninformative posts than informative posts. As a result, the model has a better chance of finding trends and correlations in the uninformative posts than in the informative posts. Hence, this shows that the results of the model can be biased since its predictive accuracy for the uninformative posts will be lower than its predictive accuracy for the informative posts. \n",
    "\n",
    "Taking a look at the confusion matrix of the improved model, it can be seen that there are a lot more true positives and true negatives than false positives and false negatives. This is a good sign because it shows that our model has a relatively high accuracy in predicting both labels. Moreover, this shows that our model is able to relatively avoid commiting Type 1 and Type 2 errors. The precision of our model is around 0.66, which is above average, while the recall of our model is around 0.83, which is relatively high. Because it is less harmful to classify uninformative posts as informative posts than it is to classify informative posts as uninformative posts, we ideally want the number of false negatives to be lower than the number of false positives, which would make the recall higher than the precision. The confusion matrix and the recall being relatively higher than the precision shows that out model will tend to produce less false negatives than false positives.\n",
    "\n",
    "The f1 score is the harmonic mean of the precision and recall of our results. This score is a very useful metric for classification model, especially for situations where there is an uneven balance of labels. The f1 score of our improved model was 0.74, which is relatively high and shows that the model overall performs well for accurately predicting informative and uninformative posts. \n",
    "\n",
    "Comparing the confusion matrix of the baseline model and the confusion matrix of the improved model, we can see that the improved model is better on all fronts. the Improved model has more true positives and true negatives while having less false positives and false negatives than the baseline model. The improved model also has a higher precision, recall, and f1 score than the baseline model. This shows that the new features we implemented caused the model to drastically increase its ability to correctly label the reddit posts. \n",
    "\n",
    "\n",
    "\n"
   ]
  },
  {
   "cell_type": "markdown",
   "metadata": {
    "id": "3KrZn8QhnHaP"
   },
   "source": [
    "## **Analyzing Systematic Mistakes in False Negative Posts**"
   ]
  },
  {
   "cell_type": "code",
   "execution_count": 83,
   "metadata": {
    "id": "Wj9rXsANJkF_"
   },
   "outputs": [],
   "source": [
    "false_neg_cases = []\n",
    "false_pos_cases = []\n",
    "for i in range(len(testX)):\n",
    "  if testY[i] != predictions[i]:\n",
    "    if testY[i] == '1':\n",
    "      false_neg_cases.append(testX[i])\n",
    "    else:\n",
    "      false_pos_cases.append(testX[i])"
   ]
  },
  {
   "cell_type": "code",
   "execution_count": 84,
   "metadata": {
    "colab": {
     "base_uri": "https://localhost:8080/",
     "height": 0
    },
    "id": "JXIAtLL7Kga6",
    "outputId": "581cfc7e-6a52-4710-f344-e9c9a603e55b"
   },
   "outputs": [
    {
     "data": {
      "text/plain": [
       "[\"Oracle is responsible for all of the bank-to-bank transactions for the Ruble in Russia on Oracle Database, and there is no alternative solution to their services in the Russian market. If Oracle were to leave Russia, it would prevent all Russian businesses from being able to deal with one another. Oracle has enough soft power in order to end the war in Ukraine in a single day, and as fellow Redditors I ask you whether or not you can ethnically support a company who refuses to stand by and do nothing while Ukraine suffers.  It's time to put your money where your mouth is.\\n\",\n",
       " \"The exact message from Schwab:   “Important Notifications: Important Update Regarding Trading Russian Securities: Due to liquidity issues stemming from restrictions placed on all Russian securities (not just those impacted by recent sanctions) by Schwab's clearing agents, neither buy nor sell orders on Russian securities are able to be accepted at this time. This is a rapidly evolving situation and we will continue to provide updates as they become available.”\\n\",\n",
       " 'The bull thesis for Tesla is super strong right now. The big move today today coming on tailwind day for sustainable growth stocks and somewhat surprise news over the weekend that Giga Berlin was approved to start production and deliveries. It was held up in a water permitting issue that had enough FUD to move the stock over the last few days. Then days after the invasion, the permit is approved.   There’s a huge opening party planned in March and the Germans are going to make it a global and political statement about investments in energy independence and sustainability. This is the fucking super bowl of advertising.  Meanwhile Elon just delivered on his Starlink request to Ukraine almost immediately. This is insane, world changing shit. All done via Twitter. What a world.  Giga Texas deliveries start in 3 weeks and they are ready to start soaking up the backlog in demand of people who don’t want to pay $5 gas.   Today Lucid cut guidance from 20,000 to 12,000 deliveries this year due to supply chain issues. I bet Berlin and Texas are each doing 12,000 per month by December.  Time to double down. Never let a good crisis go to waste.\\n',\n",
       " \"Alright, retard, all opinions on memestocks and AMC squeeze shenanigans out the window for this post and comment section.🤝  We will focus on this AMC gold miner deformed dumpster baby that literally gets sketchier the deeper you really look.  But first, how greasy is this deal? [Greasy](https://www.youtube.com/watch?v=S7FsAgPuVwU)  Let us dive in:  1st: Let me take this layup real quick, movie theatre executives don't know dick on how to fucking mine for natural precious metals. Coincidentally, this is about as close as a YOLO a corporate executive/board can go.  2nd: HYMC coincidentally drops an ATM stock offering this morning of up to 500 million unloading on apes as the stocks price launches. For those who don't understand, they are essentially able to soak up this 500% share price increase in taking a shitload of cash while massively diluting their shares. Isn't it odd that this was left out of the AMC press release and not spoken about at all on MSM today? Personally, I read an article in Barrons and NYT that completely failed to even mention it once. Side note: in a total dipshit move that makes Cramer look normal aaron [canceled](https://twitter.com/CEOAdam/status/1503763167473713155?ref_src=twsrc%5Egoogle%7Ctwcamp%5Eserp%7Ctwgr%5Etweet) his appearance on CNBC with a dumbass reply, what a fucking dweeb. Everyone knows in the era of Elon Musk, laws and court orders don't matter on Twitter and TV.  3rd: Goldminers largest shareholder is Mudrick Capital \\\\~40% of stock outstanding. For you true autists, this is the same Mudrick Capital who bought 8.1 million shares of AMC stock in a closed offering and then sold the very same day. Wow, ain't that fucking weird.   4th: The movements of this stock before this announcement are fucking sketch as hell. Take a look at 2.50 strike [call](https://imgur.com/a/62YCIqU) open interest. So you telling me that some entity just decided to yolo massive amounts of money on massive OTM calls days till expiry on some shit profitless mining company right before a fucking movie theatre buys a massive stake? Call me sherlock holmes cause that's suspicious.   \\\\-Granted, most of the volume for these options came in Friday at prices between .15 and .60 and the options barely got above .30. Nonetheless, sketch as hell. But the general movements of the stock before the announcement is undeniable.  4.5: This one isn't of any substance but I think it's worth something. This fucker took a picture with a sign in the middle of the desert as a showing of quality, no gold production or busty facilities. This is essentially if Elon Musk came out to woo his retarded investors with a new car model and instead of showing an actual car he shows a drawing.  Like fuck me, put me in charge of Wendys and I'll invest in Diane Fosseys Gorilla fund so apes can break free from behind the dumpster and frolic free in the wild while simultaneously solving climate change by making biofuel from their shit. No need to call me a hero.\\n\",\n",
       " 'Thinking of going retard on German defense.   German Parliament just announced a €100 billion  package for this year added once to the German armed forces and a definite implementation of the 2% of GDP spending on military moving forward. Even thinking about adding this to the constitution. How can this not be a positiv outlook for the military defense sector, especially German companies?  Rheinmetall, Heckler und Koch, Airbus, Maffei, mbda, ThyssenKrupp   Maybe even $LMT as they are thinking about F35s   What are your thoughts?\\n',\n",
       " 'I wrote [this](https://www.reddit.com/r/wallstreetbets/comments/sswuta/its_not_if_but_how_much/) post last night that started a nice discussion, and thought I would try to keep the conversation going.   It seems like Vladimir Putin has decided to reopen negotiations with West. After posturing over 100,000 troops along the Ukrainian border, AP reported that his military has started to pull back some of its forces. So is diplomacy in play?  While my analysis looks wrong so far, I did get one aspect correct. Putin was at a standstill and had to make a move, or risk diminishing his bargaining power. I thought Putin would take the opportunity to use aggression and force Zelensky’s hand to ultimately reject NATO. He used it to open negotiations on his terms.   I recognize that no one wants to go to war. They are expensive and often lead to unintended consequences. But Putin’s posturing shift seems to signal something else. If diplomacy is on the table, why not start with that? It could have been a miscalculation, with Putin assuming the Ukrainian comedian would quickly submit. But at the end of the day, Russia wants Ukraine independent from NATO and Ukraine wants to remain in NATO. Both of these realities cannot be true. Putin has to either admit defeat in negotiations, or invade Ukraine.   Negotiations will begin quickly, if they occur. We will know if Putin plans to keep his word within the next few days. I’m think we’ll hear about a false flag attack in Belarus before that. The markets will react negatively.   Positions: SPY puts\\n',\n",
       " 'https://www.cnbc.com/2021/11/17/cramers-advice-on-lucid-and-rivian-ev-momentum-trades-take-profits.html  “I can’t blame anyone who wants to find the next Tesla ... but I need you to remember the lessons of 1999,” the “Mad Money” host said.  “You’re playing momentum, not car companies and not technology, and in that case it’s better to ring the register early and often,” Cramer said.\\n',\n",
       " 'Okay so, I see a lot of posts of peoples opinions and thinking that the bull run isn’t over etc. and providing there own opinions on it.  I personally do not see a bull run at all. I see maybe certain trends and moments of momentum here and there but no bull run.  This is now going to be an institutional prop up game. Institutions now more so than ever, will be motivated to prop up stocks and essentially rug pull, $FB style when the time is right.  Doesn’t mean FDs are done, fuck the world could be going through an apocalypse and FDs will always remain relevant.  But, this is now time to go back and focus on real DD and stocks where their business and business models are profitable, cash positive, have low debt, etc.   This will soon be a market where if your bag holding really bad companies, you’ll be bag holding far longer then you think.  TL;DR - There will not be massive on-going bull runs. Maybe some momentum trends here and there, but as a whole, the real and realistic DD and smart plays involving sound companies can go a long way here, including FDs.  The markets will eventually need to correct itself naturally due to the state of its economy. This is inevitable, we are just putting blankets and band-aids on it atm and playing willful blindness to the actual current state of our economies.  I will say, it really does depend how quickly the world acts on removing restrictions and mandates and getting the economy back up and running at full capacity. This is a very crucial component the has continuously been ignored by governments.\\n',\n",
       " 'FB crashing 23% may be an overreaction but it is happing across the market. Pinterest and Spotify crashing at earnings as well. Market is pricing in a bear market for rate hikes. I think the goal should be to slightly average in over the next few months but more so save cash as things may get worse.\\n',\n",
       " 'Going long on PPC analysts are giving it a strong buy. Chicken production is in question with avian influenza. Stores in different areas are low or completely out of chicken. Scarcity will increase if they can’t  keep production up. https://abcnews.go.com/US/wireStory/chicken-turkey-farmers-struggle-birds-safe-flu-83459054\\n',\n",
       " 'I know this isn\\'t r/investing and things like P/E ratios don\\'t matter here. But, seeing some of you crayon eaters discuss the impact of rate hikes has given me cancer and AIDS at the same time so I want to help you help me:  List of things that AREN\\'T going to crash the market:  * People flocking to bonds for a 2% yield * Increased borrowing costs * Higher production costs  List of things that ARE going to crash the market:  * VALUATIONS  The gold standard for valuing a business is the Discounted Cash Flow model (DCF). In this model, a business\\'s future cash flows are forecasted and the discounted or present value of those future cash flows is the value of the business. The key component of this model is the discount rate, or weighted average cost of capital (WACC).   Every single 23 year old Ivy League schmuck Wall St. analyst starts with the risk free rate, or the treasury bond yields, for their WACC. That is the interest rate that JPow is playing around with. Then they add a few other things that aren\\'t relevant here, but they all have the same inputs.  What happens when the discount rate goes up? Chad plugs the new rate into his DCF model and the valuation goes down. His bank lowers their price target and people dump the stock.   Nobody is safe from this, but our favorite stocks are most sensitive to interest rates. That explains why you\\'re all down 80%+ when SPY hasn\\'t even entered a correction. Why? Because most tech companies\\' long term cash flow forecasts are based on a wink and a nod, \"we\\'ll get profitable in 10 years when we\\'ve achieved scale\". The extra 10 years of discounting make those cash flows worthless outside of a zero interest rate environment (if they were ever going to happen at all).  Now for the love of god go sell everything you own and buy puts.\\n',\n",
       " '*  MBT is a Russian network provider that trades on NYSE. * It headquartered in Moscow and is one of the largest mobile network operators in Russia and Belarus.  * Russia market index slid 50% Intraday and trading was halted.  * Market Maker forgot MBT is a Russian Telecom company, and it rallied along with all other U.S. TMT names today lol.    Come join me and fuck MM in the butt!\\n',\n",
       " 'Snowflake is on a tear growing revenue at 100% LTM.   Management is sandbagging and still projecting 60%+ 2022 revenue growth.  30x forward price sales and free cashflow positive.  Positions:  140 shares 2x 150c Jan 2023\\n',\n",
       " 'holy fucking shiti would have thousands of more dollars and fuckin be richer if i ijust sold all my virgin galactic calls without dumping it into some other lotto bullshit what the fuck i should have taken the money and then run th efuck away to the fortitutde of an etf holy jesus jim cramer cock sucking christ  i would have so much more money if i just stopped holy fucking shit i get lucky once and i think im warrenb uffet but jesus christ was i fucking lucky i think of richard bransno every day as my lourd and saviour but hes just some old fucking guy running a bullshit quasi space company while looking like a human elk  igeorge george george of the jungle what more can he be     i want to have sex with my sisters best friend abby i want to gently place my teeth at her neck  &amp;#x200B;  george of the jungle george of te jungke george of the jongle jongolas the third but anyways ive spent wso much time doing research but in hindsight my research was the most patherthic excuse of dd in human history OIOGA BOOGA STOCK LOW BUY BEFORE MOON APE APE APE i could have saved so many countless nights thinking about my losses thinking about fucking what the fuck is wrong is me and why am i so fucking retarded i want to blwo my fcking head off  &amp;#x200B;  but its all gone now! adios! sjalom! salami! selectormire michaelcopter! i miss 2006 roblox or do i only miss my childhood?     i should have stopped wasting my monehy onc allls  &amp;#x200B;  i could havebought a 1969 mercedes 300sel and socks\\n',\n",
       " '2nd layer buy cheapest vodka available since the conflict has started vodka prices have gone up vodka will most definitely be more expensive even when the conflict ends. 3rd layer the drivers with our massive spam on the app we could cause gas shortages in our cities raising prices in the gas stations that the majority of people use hence people would think is happening everywhere but no effect would happen on towns or smaller cities. 3rd 1/2 layer all this bullshit will cause individual drivers to move to other apps or quite all together quit so we should plan to buy puts on one company and by calls on the 2nd largest app. This would be first multi positional scheme i have seen more or less a scheme inside a scheme inside a scheme that actually is just one big ole scheme with multiple steps fbi would never figure that shit out lmk whatcha think felt like i just wrote a manifesto\\n',\n",
       " \"Hey tards good evening. Seems like covid rates are spiking again. There is a new variant in town dubbed 'Deltacron'. Looks like the mNRA vaccines are 💩 especially against a new variant (watch 'The Pfizer documents' video by Dr. John Campbell on YT).   I'm waiting for FDA approval of NVAX but what do you guess think about the vaccine of choice for when next wave hits?\\n\",\n",
       " \"AMC is in the business of showing movies. Obviously. Their goals are simple: once consumers come to the theaters, sell them on upcharges, and give them a pleasant enough experience to repeat the cycle.      The flaw: They rely on others to drive traffic into their doors and the only growth avenue they have is buying more theaters.      My suggestion: Audiobooks -&gt; Create Anime -&gt; Original Content to sell to the big producers after airing exclusive.      Content is king. I happen to be embedded in the audiobook market. Do some quick research and you will see audiobooks are gaining in market share and revenue. The data varies, but you can see the annual revenue difference between audiobooks and movies is not too different.      WSB: Okay Retard? Why are you talking about audiobooks?   Me: You can buy the rights to an audio book for a few thousand dollars. You can do this and own the rights for a lifetime. I know this because I do this. Deploy your capital, buy audiobooks, give them as a reward for visiting the theater. Rent out a full listen on an app, do whatever, but you suddenly own something with a longer shelf life than a Tom Cruise movie.     WSB: Great, that doesn't explain the anime nonsense. Feed me a banana to understand.   ME: Glad you asked. You now purchased 1000 audiobooks. Stick them on the AMC app. You create a crowdsourced voting and funding platform that overlays on the app for that audiobook. If the title gains enough traction, or enough pledged funds, you produce the content. Anime over live reel to save costs. You can even award .25 cents for every movie ticket to apply to sync users to your app.      WSB: Why would AMC want to produce content when others do it for them already?   Me: Growth, Growth, and Growth. AMC's business model lacks expansion. If an anime show is paid for and you control the rights, why wouldn't you. The main thing here, is any of the giants can do this. Netflix, Amzon alread has with Vox Machina, and it really is an opportunity if you have the exposer. AMC has the exposure, capital, and capability. They can hire animation studios, only develop winners into big screen, and advance AMC from the sticky floor theater chain to a next generation powerhouse who not only sells seats, but creates content.        I tried really hard to keep this simple for everyone. Is the concept perfect? No. I also tried to follow the rules with this post. I tagged it as a discussion to see what you guys think AMC should do. If I broke some rule let me know so I can ask my wife's boyfriend - Chad, really nice guy - to get the next one approved.      Cheers, Marcus Sloss.\\n\",\n",
       " 'Rite Aid (RAD) has been getting the shit kicked out of it for months, meanwhile rival CVS has risen during this time. Have you been to a Rite Aid? In my area, they are virtually indistinguishable from Walgreens and CVS. The difference I’m focusing on is how undervalued RAD is compared to its key competitors. I may be a little biased since my local Rite Aid isn’t being robbed daily (like the viral midtown Manhattan one) and may be nicer than the national average, but my thinking is how does this stock trade at $24-27 a year ago and end up in the basement at $10 or so now? Yeah they have debt, but it’s profitable and I understand they’re going to close down some of the worst performing stores. If they run leaner and continue to innovate like some of their competitors have, how is this not a good play? We all get colds and seasonal allergies, or need a Gatorade to cure that Saturday hangover - are people seriously skipping rite aid as consumers? People may tighten the belt on luxury items or specialty food, but they still need the basics that rite aid provides.  Now some people way smarter than me are probably going to point out that RAD doesn’t have competent management and there are likely some technical things I’ve glossed over, so what am I missing here?   It’s arguably undervalued based on a few key metrics, and its a household name for your meds, frozen pizza, and vitamins. So methinks this could be a decent play. Then again I’m a fuckin’ idiot. Not the crayon eating kind, but the kind just smart enough to know I’m likely missing something obvious. Or maybe this idiot squirrel just found a nut.   Long story short, I think RAD is really neat.\\n',\n",
       " 'China has its own version of the SWIFT system, called CIPS. Russia is examining CIPS and lets say they engage in it and what if say other ME countries join in? There is a much greater reliance and engagement with BC in CIPS. At present we already have decentralized currency being channeled. Have you though, imagined a near future where people reconsider their trust in USD and then even STOP using US banks to store their money. What would happen to…Wall St? the US? (Serious answers only)\\n',\n",
       " 'I would assume that got some attention from wallstreet. Would be a improvement over fines. I would assume some shf assholes tightned up on this news.     https://www.reuters.com/world/us/us-prosecutors-explore-racketeering-charges-short-seller-probe-sources-2022-02-18/?s=09\\n',\n",
       " \"RC directly buys 100k shares and 'DRS' like all the DD has suggested. Stocks jump 30%. AH is up by another 16%. MSM has not said a single word. This has all the line up for FOMO to begin. I literally wonder how high today's gonna go.  Oh and don't forget Gamestop already told us this week was going to be wild.\\n\",\n",
       " 'Russia has blown up Ukraine nuclear power plant. Russia is pushing forward   [WSJ](https://www.wsj.com/livecoverage/russia-ukraine-latest-news-2022-03-03?wsj_native_webview=iphone&amp;ace_config=%7B%22wsj%22:%7B%22djcmp%22:%7B%22propertyHref%22:%22https://wsj.ios.app%22%7D%7D%7D&amp;ns=prod/accounts-wsj)\\n',\n",
       " \"Would love some thoughts on this. I own about 700 shares of BOXD with average around 12ish. Unfortunately, it's taking the way of SPACs and getting shorted to oblivion. I was doing some scan on Twitter and noticed that a few weeks ago there were no more shares to short. Looks like there are about 15000 left as of today but not sure how reliable this site is.   Any knowledge y'all can drop would be helpful: https://www.shortablestocks.com/?BOXD\\n\",\n",
       " 'After the latest Q4 earning calls for Gamestock there was an open discussion that was held by the WSB mods. During the live discussion one of the self-proclaimed financial tards from the bear side \"claimed\" that he was short Game company and that he was going to short it more based on the earnings call. I remember how smirk and stern you were and today I\\'m wondering if you\\'re still alive gay bear. Be a real man and post the margin call in true WSB fashion if you really did short Gamestop and didn\\'t just claim to do it for hubris. And to all the doubters, let me leave you with this question:  How does 1 person buying 100K shares bring in 14 Million of volume when the average per day is around 2-3 million? This is totally a normal move for a stock not manipulated and without news right? We only found RC bought the shares after market close, so the excuse of the chairman buying 100K shares rallied all the ape retail to follow suit can\\'t be used right?  Ask yourself this from an objective point of view and if you still believe or don\\'t question your predisposition of the manipulation, you\\'re too far gone and controlled by the narrative they are feeding you.  1. Gamestop did not squeeze SEC filing says so. 2. There are run-ups every 3 months in 2021, why did it happen? Also how does 1 man buying 100K worth of shares cause over 14million in volume and today 20 million in volume? When the normal daily shares were around 1-3 million? 3. NFT marketplace + Block chain gaming = $$$ 4. Team is stacked, Matt Furlong, Mike Recupero, Matt Francis, all from Amazon, why would they leave one of the most valued companies to come to a meme stock company? 5. No insider is selling and Ryan Cohen bought more!  NOT FINANCIAL ADVICE. I LOVE THIS STOCK MY CHAIRMAN AND THIS COMPANY\\n']"
      ]
     },
     "execution_count": 84,
     "metadata": {},
     "output_type": "execute_result"
    }
   ],
   "source": [
    "false_neg_cases"
   ]
  },
  {
   "cell_type": "markdown",
   "metadata": {
    "id": "9bAMzm_jp-sX"
   },
   "source": [
    "Above is a list of posts that were false negatives after running the model on the test data. After analayzing these posts, we determined a couple of categories of common mistakes that the model made when classifying these posts. \n",
    "\n",
    "**1. Presence of curse words as signs of insulting or threatening language**\n",
    "* Example Post: \"Alright, retard, all opinions on memestocks and AMC squeeze shenanigans out the window for this post and comment section.🤝  We will focus on this AMC gold miner deformed dumpster baby that literally gets sketchier the deeper you really look.  But first, how greasy is this deal? [Greasy](https://www.youtube.com/watch?v=S7FsAgPuVwU)  Let us dive in:  1st: Let me take this layup real quick, movie theatre executives don't know dick on how to fucking mine for natural precious metals. Coincidentally, this is about as close as a YOLO a corporate executive/board can go.  2nd: HYMC coincidentally drops an ATM stock offering this morning of up to 500 million unloading on apes as the stocks price launches. For those who don't understand, they are essentially able to soak up this 500% share price increase in taking a shitload of cash while massively diluting their shares. Isn't it odd that this was left out of the AMC press release and not spoken about at all on MSM today? Personally, I read an article in Barrons and NYT that completely failed to even mention it once. Side note: in a total dipshit move that makes Cramer look normal aaron [canceled](https://twitter.com/CEOAdam/status/1503763167473713155?ref_src=twsrc%5Egoogle%7Ctwcamp%5Eserp%7Ctwgr%5Etweet) …”\n",
    "* Many uninformative posts are posts that complain about the economy/stock market or make fun of others for their invests. Such posts tend to use curse words to insult or make fun of others. This post uses a lot of curse words (like \"retard\") but does not use them to make excessive fun of or insult others. In fact, the post is informative because it brings up a valuable argument that is supported with logic, evidence, and links. Because of the amount of curse words there were in the post, the model seemed to have classified the post as uninformative. \n",
    "\n",
    "**2. Uncommon Acronyms for organizations**\n",
    "* Example Post: 'FB crashing 23% may be an overreaction but it is happing across the market. Pinterest and Spotify crashing at earnings as well. Market is pricing in a bear market for rate hikes. I think the goal should be to slightly average in over the next few months but more so save cash as things may get worse.\\n'\n",
    "* The post above references the company Facebook as FB. Although the model checks for the presence of important companies like Facebook, it is unfamiliar with many of the informal acronyms that people use for such companies. This can cause the \"org\" feature to not work as well as intended, which can highly likeley result in the model misclassifying informaative some posts as uninformative.\n",
    "\n",
    "**3. References to events that indirectly affect the economy or stock market** \n",
    "* Example Post: 'I wrote [this](https://www.reddit.com/r/wallstreetbets/comments/sswuta/its_not_if_but_how_much/) post last night that started a nice discussion, and thought I would try to keep the conversation going.   It seems like Vladimir Putin has decided to reopen negotiations with West. After posturing over 100,000 troops along the Ukrainian border, AP reported that his military has started to pull back some of its forces. So is diplomacy in play?  While my analysis looks wrong so far, I did get one aspect correct. Putin was at a standstill and had to make a move, or risk diminishing his bargaining power. I thought Putin would take the opportunity to use aggression and force Zelensky’s hand to ultimately reject NATO. He used it to open negotiations on his terms.   I recognize that no one wants to go to war. They are expensive and often lead to unintended consequences. But Putin’s posturing shift seems to signal something else. If diplomacy is on the table, why not start with that? It could have been a miscalculation, with Putin assuming the Ukrainian comedian would quickly submit. But at the end of the day, Russia wants Ukraine independent from NATO and Ukraine wants to remain in NATO. Both of these realities cannot be true. Putin has to either admit defeat in negotiations, or invade Ukraine.   Negotiations will begin quickly, if they occur. We will know if Putin plans to keep his word within the next few days. I’m think we’ll hear about a false flag attack in Belarus before that. The markets will react negatively.   Positions: SPY puts\\n'\n",
    "* The post references the war between Ukraine and Russia. Even though the post does not contain much economic terms, it references events related to a war that have enormous impacts on the economy or stock market. Because the features of the model highly focus/prioritize using statistics or economic terminology as signs of informativeness, the model mistakenly categorizes posts like this as uninformative. \n",
    "\n",
    "\n"
   ]
  },
  {
   "cell_type": "markdown",
   "metadata": {
    "id": "6M80oVXxnQ3c"
   },
   "source": [
    "## **Analyzing Systematic Mistakes in False Positive Cases**\n",
    "\n",
    "\n"
   ]
  },
  {
   "cell_type": "code",
   "execution_count": 85,
   "metadata": {
    "colab": {
     "base_uri": "https://localhost:8080/",
     "height": 0
    },
    "id": "3d8zYMh9Lp0K",
    "outputId": "7bc7b96d-53f0-4d4f-e132-473ffdb2f3a0"
   },
   "outputs": [
    {
     "data": {
      "text/plain": [
       "['Let me say up front I am a Contrarian.  When people are buying I am slowly selling and vice versa.  Been doing it a long time and if you have patience it works.  3 and 4  years ago I was loading up on Energy (VDE, CVX, XON, PSX mainly).  And a little 100 year old company that makes wheels and under carriages for big equipment -- **TWI**.  Probably 65% out of then now.  What do I think is the next good way to make money with a little patience?  https://preview.redd.it/igjx3vfvyii81.png?width=582&amp;format=png&amp;auto=webp&amp;s=69d825d504fa061db35428d30f758fb4013bcafc  **ARKF, ARKW, and ARK in equal amount**s -- buy some every 3 months until tech turns around.  **Cruise ships** also.  And **hotel ETFs** such as INN (get it in the $10 range).  We seem to be on the down side of COVID and cruise ships have yet to really take off.  Buy all 3, as one may go bankrupt -- not sure which one.  And then when these recover, sell and go back into energy and tobacco and wait again.  ***And Best of Luck!***\\n',\n",
       " 'As many of us know nearly all growth companies, even those with good fundamentals and consistent growth have been absolutely shit on. Assuming the economy doesn’t collapse sometime soon most of them will return to their former glory in the next 3-50 years. BYND is not fucking one of them.  So what I mean by insider info is that I work in a grocery store, more specifically the meat department. Laugh it up all you want but at least I’m not giving handys behind dumpsters to cover margin calls like some of u idiots. Now from what I’ve seen since we started getting these “meat products” is a fairly obvious pattern. We get these disgusting piles of beetroot or whatever the fuck there made out of in. We put them out on the shelves, nobody buys them, they expire, we throw them out, they get automatically put back on order and sent to us and the cycle repeats. Here’s where it starts to get interesting. What I’ve seen happen to other products that don’t sell is eventually they get put on DNO. I think it means Do Not Order but you’d have to ask my manager I’m not 100% sure. Once that happens the system will stop automatically sending more boxes in to us and we will no longer be purchasing items we don’t sell, you starting to see where this is going? Once enough stores put this hippie food on the DNO list, beyond revenue tanks and they stray even further away from profitability. Eventually having to sell assets to stay afloat, a final blow causing beyond to flatline.  Possible bull cases: 1. Hippies discover mind control and force everyone to go vegan, pretty self explanatory. 2. Other stores outside of the single one I work at are actually selling this shit not just stocking their shelves with it.  Does anyone know how to maximally profit off this? I’m pretty sure it will happen in less than 2 years but the lowest strike for options is 30 and cost 9. I don’t wanna short either bc only 100% gains are for pussys.  Disclaimer: this is obviously not financial advice, please do not arrest me for insider trading.\\n',\n",
       " '# THESIS  **THE TA**  SKIP IF YOU DON’T CARE ABOUT THE LINE  *(the line doesn’t care about you either)*  [FEB 21\\\\^\\\\^\\\\^](https://preview.redd.it/0ev6f7t1bxi81.png?width=3360&amp;format=png&amp;auto=webp&amp;s=003196a3ff9d07771ed1a08e96ae9e9b476f3161)  [MARCH 21\\\\^\\\\^\\\\^](https://preview.redd.it/j9nv9u45bxi81.png?width=3360&amp;format=png&amp;auto=webp&amp;s=7a2f4334440d31dc207ac2c474796a490454c736)  [PRESENT\\\\^\\\\^\\\\^](https://preview.redd.it/jabfk5r7bxi81.png?width=3360&amp;format=png&amp;auto=webp&amp;s=3e8600dc3043abc4c10bdc36fd76e49f57d9deb6)  **TA EXPLAINED**  Indicators that line up each time;  Bullish pressure when sliding. *(green dots)*   Oversold before each rip, due to short pressure.  Holding Supertrend. *(green line that says buy)*  Volume Spikes.  21MA Cross.  COG also finding new bottom in similar scenarios *(blue and white lines, like macd)*  Not shown here but, the on balance volume has been quite stable for a stock thats been bleeding for a year.  &amp;#x200B;  If you do care a bout the line here’s a much more comprehensive overview of GME:  [https://www.reddit.com/r/wallstreetbets/comments/stwxa9/make\\\\_gme\\\\_not\\\\_war/](https://www.reddit.com/r/wallstreetbets/comments/stwxa9/make_gme_not_war/)  **SHORT INTEREST**  Utilization at 100% 7 days straight.  CTB slowly Increasing  [AMC\\\\^\\\\^\\\\^](https://preview.redd.it/ky2xedsbbxi81.jpg?width=1916&amp;format=pjpg&amp;auto=webp&amp;s=ddf5f42defb0af54bd6d15b14d38dd20e599c408)  **FTDS**  [AMC\\\\^\\\\^\\\\^](https://preview.redd.it/813cjwncbxi81.png?width=868&amp;format=png&amp;auto=webp&amp;s=cd02083e80fccb4ac5d03a7bf964b91375263f8c)  **THE OPTIONS/FTD RINSE CYCLE**  Every third month after options expiration dates - one month before quad witching dates.   Third Wednesday in the month sp closes just below open. The fourth Friday  https://preview.redd.it/6ynh8sqgbxi81.png?width=1152&amp;format=png&amp;auto=webp&amp;s=d0458783448ba1b50c363b85416bdba8c388c917  [GME\\\\^\\\\^\\\\^  Taken from https:\\\\/\\\\/www.reddit.com\\\\/r\\\\/wallstreetbets\\\\/comments\\\\/stxzsz\\\\/3\\\\_month\\\\_cycles\\\\/](https://preview.redd.it/fzfcjm44cxi81.png?width=1313&amp;format=png&amp;auto=webp&amp;s=e9ad17cef568d41d3db74a5b9b9062ec933b17d2)  **AMC EARNINGS**  Earnings moved up to post early. March 1st at market close instead of the third.  AKA when shareholders can sell (not retail, not street.)   *TL;DR: AMC Fundies actually good. Value investors unite.*  https://preview.redd.it/gwtxzfvgcxi81.png?width=498&amp;format=png&amp;auto=webp&amp;s=c84c5fed5f7551de28da69a5eeed934ffc360edf  **HEDGIES**  Vanguard, JP Morgan, Blackrock, Rentech, ETC. Added \\\\~40M shares.  These hedgies added \\\\~4M ea. before last run up.  Report dates almost exactly a year apart.  https://preview.redd.it/l5s51dxhcxi81.png?width=1322&amp;format=png&amp;auto=webp&amp;s=02e451b16003d90a2623dedd8f9cda8b937174d1  **FEDS**  DOJ and FBI Investigating various aspects of short selling and insider trading. Citadel and banks (brokers) named.   Feds got a 95% case conviction rate.   https://preview.redd.it/l8rlyl6kcxi81.png?width=1046&amp;format=png&amp;auto=webp&amp;s=a09f4e1616f36ae7e3dcec3a2e1cb7ef6567aff7  **SPECULATIVE:**  BSTX officially approved. Rumored to be running.    Document storage facility burns to ground days before probe.  FOUR DAY TRADING WEEK   Where in the world is Kenny effin G?  Positions  https://preview.redd.it/z4m8walpcxi81.jpg?width=828&amp;format=pjpg&amp;auto=webp&amp;s=b936ee3f2bd05b3100199663c026bb5f50d9acc4  https://preview.redd.it/eijtswaqcxi81.png?width=554&amp;format=png&amp;auto=webp&amp;s=c91590bf68cbb0625600264f4865d163751bd830\\n',\n",
       " 'Previous  tilray rallies have taken it first to $300 in 6weeks and to $70 in 6weeks.  In the upcoming scenario we will be a profitable company, some possible legislation (any legislation), German legalization,shorts &gt; 12.5% starting from near ATLs. My target is 142+  If all of us “will” “$142” then it will reach it. Our next earnings announcement should be end of March/beginning of April. Best case, this uptrend and $420 target 🎯 should begin at mid/end of February.\\n',\n",
       " 'In case you’ve been confused by media stories that Ukraine might actually beat back Russia, those are all storylines with zero merit.  When applied worldwide (across all NATO countries in unison) as they’ve been, they’re designed to demoralize the Russians, embolden the Ukrainians, garner public support/backlash, diminish Russian public support for Putin, etc etc etc.   The Russians didn’t “run out of gas” They aren’t crying to mommy on the Internet.  They aren’t worried Putin is losing sanity (they love him).   It’s just so comical that people believe they’re watching actual news.   We (America &amp; NATO) are SACRIFICING the Ukrainians to diminish Putin (if we can). That’s how much our leaders care about Ukrainians and Ukraine.   Sad.   As for trading- oil prices will continue higher. And markets probably lower.  I’m still expecting SPY easily sub 400 before this downdraft has run its course.   Best of luck to all both long and short\\n',\n",
       " 'Sometime between now and later SOFI stock will (probably) rise again.  Here’s the best way to cash in with NO MONEY DOWN:  Go to SOFI website. Take out a personal loan. Buy SOFI shares with the personal loan. Sell weekly covered calls on SOFI to pay the personal loan off.  While your on the website, get the 2% cash back credit card.  If you are feeling ballsy, take a cash advance and buy some SOFI shares with the cash. Refinance your student loans while you are there too.  ***Bonus Multiplier: open a margin account using your new SOFI shares as collateral. Buy more SOFI shares on margin. ***  When all of your new accounts, personal loans, credit cards, student loan refis, and margin accounts are added to the organic growth the company is experiencing it will raise the stock price on next earning report.  Then what? All the shares you’ve gobbled up decreased the float. Setting up for a short squeeze and it’s GME on!  With the FED money printer unplugged you’ve got to take matters into your own hands. You print the money now! This is the way. 🚀🚀🚀  Disclaimer: This is not financial advice. Results may vary. May cause erectile dysfunction, anal itching, divorce, and Wendy’s employment.\\n',\n",
       " 'When you buy a share of a company, you are buying a claim on their future profits. The recent bearish turn for growth stocks has been a real moment of reckoning for this sub. I hope you learned a valuable lesson.  By all means, gamble on hyped up ShitCos. But don’t fool yourself that the CLOVs and LCIDs of the world are actually going to change the world. They are selling castles in the sky. It is all an illusion. It is all a pump and dump. The Chamaths and Ryan Cohens of the world are taking advantage of you.   Going long on shares of unprofitable ShitCos is not the move and it never will be.\\n',\n",
       " 'Gonna use my own advices since taking other’s advice here is like Russian roulette except there’s 5 bullets instead of just 1. After lots of evaluation, here’s the [formula](https://www.readingrockets.org/images/articles/52243-a1.jpg) I came up with.   This month I’ve been getting tossed around by calls and puts like a hooker on happy hour. I see some users talk about how Disney was going to fail somehow, but you never fuck with the mouse.   I’m trying to stretch my account value, not my asshole, therefore I should reverse psychology to outplay the market.   My theories? If you even read this far, listen to this.  Now, I would initially say puts on LCID, but what if we did calls? At my local mall they’ve recently set up a Lucid store with an actual car within. Car looked inside it was it really nice. Bunch of people there too all looking around.   According to an [article by wccftech](https://wccftech.com/the-latest-snapshot-of-institutional-holdings-in-lucid-group-lcid-shares-and-what-to-expect-during-the-upcoming-q4-2022-earnings/amp/)   “As an illustration, the company is expected to report $59.87 million in revenue for Q4 2021 and a non-GAAP EPS of -$0.30.”  Also  “Lucid Group is also expected to provide critical financial guidance for the rest of 2022. As per the current consensus expectations of analysts, the company should report Q1 2022 revenue of around $212 million.”   The stock itself is low as hell, which means it’s only going to go tits up.   But before you say “you fucking retard, what you just said was that it’s going to up, so why are you doing a call?” Get off the toilet while browsing Reddit and I’ll tell you why.  Companies that both reached earnings or missed expectations has had their stock price does the complete opposite for whatever reason. MTCH. FSLY. PTLR. This has made me believe that this stock has the possibility of being no different.  It’s literally 4D chess. No way this’ll fail.\\n',\n",
       " '[https://edition.cnn.com/europe/live-news/ukraine-russia-news-02-23-22/index.html](https://edition.cnn.com/europe/live-news/ukraine-russia-news-02-23-22/index.html)  **4:56PM AEDT / 12:56AM ET** Pentagon is tracking an incursion of troops from Belarus (not sure if Russian or Belarusian) into Ukraine.  **3:35PM AEDT / 11:35PM ET** Airstrikes / explosions in Ukraine confirmed by Russia to \"demilitarize\" Ukraine and disable air defence systems, infrastructure and airports.  &gt; \"The Russian Armed Forces are not launching any missile or artillery  strikes on the cities of Ukraine. High-precision weapons destroy  military infrastructure: military airfields, aviation, air defense  facilities of the Armed Forces of Ukraine,\" the statement read. \"The  civilian population is not at risk.\"\\xa0   https://preview.redd.it/6v1zh2n20qj81.png?width=1561&amp;format=png&amp;auto=webp&amp;s=2dd2908a400808f6ae2bcc09ce65526c4cc6258f  [https://youtu.be/H5fcis5LfJ0?t=5164](https://youtu.be/H5fcis5LfJ0?t=5164) UN Security Council  Putin threatens foreign interference:  &gt; \"Now a few important, very important words for those who may be tempted  to intervene in ongoing events from the outside,\" Putin said. \"Whoever  tries to interfere with us, and even more so to create threats to our  country, to our people, should know that Russia\\'s response will be  immediate and will lead you to such consequences as you have never  experienced in your history. We are ready for any development of events.  All necessary decisions in this regard have been made. I hope that I  will be heard.\"   G7 announces a meeting tomorrow to impose further sanctions / actions against Russia.  MOEX Russia\\'s stock exchange has suspended all trading: [https://www.moex.com/n41370/?nt=201](https://www.moex.com/n41370/?nt=201)  **I\\'ll update the post on further updates.**\\n']"
      ]
     },
     "execution_count": 85,
     "metadata": {},
     "output_type": "execute_result"
    }
   ],
   "source": [
    "false_pos_cases"
   ]
  },
  {
   "cell_type": "markdown",
   "metadata": {
    "id": "KB7WAELjMWuA"
   },
   "source": [
    "Above is a list of posts that were false negatives after running the model on the test data. After analayzing these posts, we determined a couple of categories of common mistakes that the model made when classifying these posts. \n",
    "\n",
    "**1. Randomly mentioning economic entities such as organizations and statistics without explaining their significance to the economy or stock market.**\n",
    " \n",
    "\n",
    "**2.Making opinionated statements that can be false or have not been logically supported. Posts contain personal stories or rants rather than relevant information about the economy or stock market**\n",
    "\n",
    "**Example Post:** 'Let me say up front I am a Contrarian. When people are buying I am slowly selling and vice versa. Been doing it a long time and if you have patience it works. 3 and 4 years ago I was loading up on Energy (VDE, CVX, XON, PSX mainly). And a little 100 year old company that makes wheels and under carriages for big equipment -- TWI. Probably 65% out of then now. What do I think is the next good way to make money with a little patience? https://preview.redd.it/igjx3vfvyii81.png?width=582&format=png&auto=webp&s=69d825d504fa061db35428d30f758fb4013bcafc ARKF, ARKW, and ARK in equal amounts -- buy some every 3 months until tech turns around. Cruise ships also. And hotel ETFs such as INN (get it in the $10 range). We seem to be on the down side of COVID and cruise ships have yet to really take off. Buy all 3, as one may go bankrupt -- not sure which one. And then when these recover, sell and go back into energy and tobacco and wait again. And Best of Luck!\\n',\n",
    "\n",
    "The post above mentions the names of companies but does not talk about their signficance to the economy or the stock market. Moreeover, the post does not include any logical arguments. The author mentions to take action on stocks with no explanation as for why. Since the model checks for the presence of economic terminology, this could be why the model misclassifies these posts as informative. "
   ]
  },
  {
   "cell_type": "markdown",
   "metadata": {
    "id": "GnxVXUPFnXL7"
   },
   "source": [
    "## **Future Ideas for Model Improvement**"
   ]
  },
  {
   "cell_type": "markdown",
   "metadata": {
    "id": "tTanmjToWdyv"
   },
   "source": [
    "1. Transitioning to using more complex models can be a great way of improving the accuracy/precision of the model. BERT can be a great model to use since it is aware of context and uses \"self attention\"\n",
    "\n",
    "2. Using sentiment analysis to determine the intent of a post. Since uninformative posts on reddit tend to very heavily criticize or insult others, we implemented a feature called \"curse_word_avg\" that computes the percentage of a text containing curse words but discovered that the feature did not perform as well as intended. Using sentiment analysis would be a better way of accomplishing this task. \n",
    "\n",
    "3. Performing an in depth Exploratory Data Analysis where we take a look at our data and discover trends in the data can be a great way of improving our existing model. The EDA can help us better the feature engineering process and discover new features that can help improve the performance of the model. Conducting a Principal Component Analysis can also help us identify the importance of each feature and determine which features should ultimately be used in the model. \n",
    "\n",
    "4. Tuning hyperparameters by using K-fold cross validation can improve the performance of the model. \n",
    "\n",
    "5. Improving the unigram bag of words implementation by using bigrams can make our features more comprehensive and hence improve the model.\n",
    "\n",
    "6. Using training data over the span of a couple years can greatly improve the performance of the model. Because the training data only consists of reddit posts from this year, the information in the posts could be skewed. Using training data from the span of a couple years can make the training data more diverse and help the model discover new trends. \n"
   ]
  },
  {
   "cell_type": "code",
   "execution_count": 85,
   "metadata": {
    "id": "aUY-7bxycjYq"
   },
   "outputs": [],
   "source": []
  }
 ],
 "metadata": {
  "colab": {
   "collapsed_sections": [],
   "name": "AP4",
   "provenance": []
  },
  "kernelspec": {
   "display_name": "Python 3",
   "language": "python",
   "name": "python3"
  },
  "language_info": {
   "codemirror_mode": {
    "name": "ipython",
    "version": 3
   },
   "file_extension": ".py",
   "mimetype": "text/x-python",
   "name": "python",
   "nbconvert_exporter": "python",
   "pygments_lexer": "ipython3",
   "version": "3.8.3"
  }
 },
 "nbformat": 4,
 "nbformat_minor": 1
}
